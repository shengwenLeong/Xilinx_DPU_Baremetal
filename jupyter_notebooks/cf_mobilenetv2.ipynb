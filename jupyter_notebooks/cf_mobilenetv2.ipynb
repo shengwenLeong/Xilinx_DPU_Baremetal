{
 "cells": [
  {
   "cell_type": "code",
   "execution_count": 1,
   "metadata": {},
   "outputs": [
    {
     "data": {
      "application/javascript": [
       "\n",
       "try {\n",
       "require(['notebook/js/codecell'], function(codecell) {\n",
       "  codecell.CodeCell.options_default.highlight_modes[\n",
       "      'magic_text/x-csrc'] = {'reg':[/^%%pybind11/]};\n",
       "  Jupyter.notebook.events.one('kernel_ready.Kernel', function(){\n",
       "      Jupyter.notebook.get_cells().map(function(cell){\n",
       "          if (cell.cell_type == 'code'){ cell.auto_highlight(); } }) ;\n",
       "  });\n",
       "});\n",
       "} catch (e) {};\n"
      ]
     },
     "metadata": {},
     "output_type": "display_data"
    },
    {
     "data": {
      "application/javascript": [
       "\n",
       "try {\n",
       "require(['notebook/js/codecell'], function(codecell) {\n",
       "  codecell.CodeCell.options_default.highlight_modes[\n",
       "      'magic_text/x-csrc'] = {'reg':[/^%%microblaze/]};\n",
       "  Jupyter.notebook.events.one('kernel_ready.Kernel', function(){\n",
       "      Jupyter.notebook.get_cells().map(function(cell){\n",
       "          if (cell.cell_type == 'code'){ cell.auto_highlight(); } }) ;\n",
       "  });\n",
       "});\n",
       "} catch (e) {};\n"
      ]
     },
     "metadata": {},
     "output_type": "display_data"
    }
   ],
   "source": [
    "from pynq_dpu import DpuOverlay\n",
    "overlay = DpuOverlay(\"dpu.bit\")"
   ]
  },
  {
   "cell_type": "code",
   "execution_count": 2,
   "metadata": {},
   "outputs": [],
   "source": [
    "overlay.load_model(\"./dpu_cf_mobilenetv2.elf\")"
   ]
  },
  {
   "cell_type": "code",
   "execution_count": 3,
   "metadata": {},
   "outputs": [],
   "source": [
    "from ctypes import *\n",
    "import cv2\n",
    "import numpy as np\n",
    "from dnndk import n2cube\n",
    "import os\n",
    "import threading\n",
    "import time\n",
    "from pynq_dpu import dputils\n",
    "\n",
    "KERNEL_CONV = \"cf_mobilenetv2\"\n",
    "KERNEL_CONV_INPUT = \"263\"\n",
    "KERNEL_FC_OUTPUT = \"417\"\n",
    "num_iterations = 500"
   ]
  },
  {
   "cell_type": "code",
   "execution_count": 4,
   "metadata": {},
   "outputs": [],
   "source": [
    "from IPython.display import display\n",
    "from PIL import Image\n",
    "\n",
    "img = cv2.imread(\"/home/xilinx/holdout_images/ILSVRC2012_val_00000001.JPEG\")"
   ]
  },
  {
   "cell_type": "code",
   "execution_count": 5,
   "metadata": {},
   "outputs": [],
   "source": [
    "n2cube.dpuOpen()\n",
    "kernel = n2cube.dpuLoadKernel(KERNEL_CONV)"
   ]
  },
  {
   "cell_type": "code",
   "execution_count": 6,
   "metadata": {},
   "outputs": [
    {
     "data": {
      "text/plain": [
       "<dnndk.n2cube.LP_c_void_p at 0x7f6b94e158>"
      ]
     },
     "execution_count": 6,
     "metadata": {},
     "output_type": "execute_result"
    }
   ],
   "source": [
    "task = n2cube.dpuCreateTask(kernel, 0)\n",
    "mean = [104,117,123]\n",
    "dputils.dpuSetInputImageWithScale(task, KERNEL_CONV_INPUT, img, mean, 0.00390625) \n",
    "n2cube.dpuGetInputTensor(task, KERNEL_CONV_INPUT)"
   ]
  },
  {
   "cell_type": "code",
   "execution_count": 7,
   "metadata": {},
   "outputs": [],
   "source": [
    "n2cube.dpuRunTask(task)\n",
    "size = n2cube.dpuGetOutputTensorSize(task, KERNEL_FC_OUTPUT)\n",
    "channel = n2cube.dpuGetOutputTensorChannel(task, KERNEL_FC_OUTPUT)\n",
    "conf = n2cube.dpuGetOutputTensorAddress(task, KERNEL_FC_OUTPUT)\n",
    "outputScale = n2cube.dpuGetOutputTensorScale(task, KERNEL_FC_OUTPUT)\n",
    "resultFP = n2cube.dpuGetOutputTensorInHWCFP32(task, KERNEL_FC_OUTPUT, size)\n",
    "resultINT = n2cube.dpuGetOutputTensorInHWCInt8(task, KERNEL_FC_OUTPUT, size)\n",
    "softmax = n2cube.dpuRunSoftmax(conf, channel, size//channel, outputScale)"
   ]
  },
  {
   "cell_type": "code",
   "execution_count": 8,
   "metadata": {},
   "outputs": [
    {
     "data": {
      "text/plain": [
       "0.25"
      ]
     },
     "execution_count": 8,
     "metadata": {},
     "output_type": "execute_result"
    }
   ],
   "source": [
    "outputScale"
   ]
  },
  {
   "cell_type": "code",
   "execution_count": 9,
   "metadata": {},
   "outputs": [
    {
     "data": {
      "text/plain": [
       "array([  3,  -4,   9,   3,  15,  18,  21,   3,   3,   3,   3,  -8, -17,\n",
       "        -3,  -5,  -5, -13,   0,  -7,   2,  -1,  -3,  -7,  -4,   6,  12,\n",
       "        21,  -9,  11,   4,  18,  -4,  13,  43,  53,  23,  30,  16,  21,\n",
       "        28,  -1,  26,  21,  16,  32,  31,  10,  18,  29,  48,  49,   5,\n",
       "        20,  28,  54,  14,  37,  34,  45,  17,  40,  39,  58,  33,  13,\n",
       "        45,  41,  43,  41,  18,  -2,  14,  -9,  -4,  -4, -13,   3,   2,\n",
       "        -6,  13,  -6,  11,  14,   7,  16,  22,  13, -10, -10,  -9, -17,\n",
       "        -3,  -7,   1,  -5, -10, -11,   3,   3,  -5,   0,   4,   7,   7,\n",
       "         2,  -9,   0,  13,   9,   3,  12,  10,  23,  18,  30,   8,  21,\n",
       "         8,   4,  15,  18,   3,  -1,   5,   9,  18,   6, -13, -17, -10,\n",
       "       -11,  -1,  -1,   9, -13,  -1, -12,   2,  13,  10,  13,  10,  14,\n",
       "       -13,  -5,   3,  -8,  15,   9,   2,  19,   2,  -4,   7,   8,   9,\n",
       "        -9,   0,  -6,   0,   4,  -2,  -3,  -4,  10, -12,  -8, -13,  -7,\n",
       "         1,   6,  -5,   2, -11,  -1,  -7,   2,   7,  -8,  -2,  -4,  -2,\n",
       "         1,   2,  -8,  -2,   2,   8,   2,   2,   2,   4,   4,   1,   8,\n",
       "        -3,   8,   4,   9,   4,  12,   4,   2,   3,  10,  -2,  -8,  -4,\n",
       "        -4,  -6,   4,  -2,   2,  -5,   1,  -5,  -4,  -7, -14,   2, -11,\n",
       "        -9, -10,  -1,  -8,  -5,   1,   5,  -3,   6,   5,   9,   4,  -2,\n",
       "         4,   9,  -3,  -5,   3,   3,  -6,  -7,  -1,  -2,   6,   0,   1,\n",
       "         1,   5,   5,   1,   4,  -4,   1,   8,  -4,   2,   9,  -5,   3,\n",
       "        -4,   1, -16,   3,   7,   0,   0,   0,  -5,   1,  -2, -14,  -1,\n",
       "         6, -10,   3,   3,  -4,   1,   3,  13,   9,   5,  -2,  -3,   4,\n",
       "        -6, -11,  11,  10,   5,  -1,  -6,  14,  -5,   3,  -2,   2,   9,\n",
       "         0, -12,  -8,  -6,  -2,  -7,   8,  -4,   3,  -1,   2,   1,  -2,\n",
       "        -8,  -8,   1,  -5,   4,   7,  13,  11,   0,  -7, -10,  -9,  -6,\n",
       "       -13,  -8,  22,   6,  27,   7,   3,   0,  -6,  11,   2,  13,  12,\n",
       "         6, -17,   4,   7,  13,   6,   6,   6,  16,  -8,   3,  -3,  -5,\n",
       "        -5,  -7,  -3,   3,  -9,   8,   3,   9,   6,  19,   9,  13,  17,\n",
       "         0,  -8,  -9,   2,  -8,   2,  -2,  -5,  -1,  -5,   1,  -1, -10,\n",
       "         4,  -2,  -3,  -5,   3,  -1,  -2, -13,   0,   6, -10,  -8,  17,\n",
       "        28,  10,  -5,  -1,  15,  18,  10,  22,  -4,  14, -12,  -1,   3,\n",
       "       -12, -12,   1,  -8,  -2,   5, -11,  -4,   0,  -2,  -6,  -4,   4,\n",
       "        -3,  -8,   1, -11,   4,  -1,   1,  -6,   0,  -6,  -5,  -2,   6,\n",
       "         3,  -9,   4, -15,  -1,  -1,   3,  -1,   3,  -2,  -3,   3,  -9,\n",
       "        -7,  -3,  -2,   1,  -8,   0, -11,  -7,  -4,  -3, -13, -15, -10,\n",
       "        14,   2,   5,   5,  -1,  11,  -8,   1,   1,   9, -10,  -4,  -9,\n",
       "         4,  -8,   2,   0,  -7,  -1,  -4,   0,  -6, -10,   2,   3,  -5,\n",
       "       -13,  -5,  -4,  -2,  -8, -19,  -3,  24,   6,  13,  -7,   5, -11,\n",
       "        -8,  -7, -13,  -9,   1,  -3,   4,  -4,   1,  -8,  -8,  -6,   4,\n",
       "         6,  -2,  -7,  -4,  -7, -13,  -6, -11,   7,   0,   2,  -4,  -6,\n",
       "         2,  -8, -16, -11, -10, -11,  -6,   1,   2, -12,  -8,  -8,  -4,\n",
       "        -1,  -8,  -8,   6,   4,  -1,  10,  -5,  -2,  -2,   1,   8,  -2,\n",
       "         0,  -3, -11,  11,  -9,   0,  -2,  -1, -10,  -5,  -5,   6,   0,\n",
       "         4, -21,   5,  -1,   5,  -3,  -1,   0,  -3,  -4,  -6, -14,  -7,\n",
       "        -4,   0,  -9,   3,  -7,  -1,   5, -17,   2,   8,   0, -15,   0,\n",
       "        -7,   9,   7,  -2,  -4, -13,  15, -18,  -8,   3,  -5,  -8,  -9,\n",
       "        -4,   5,   8,  -2,  -8,  -8, -18,   3,   4,  -7,   6,  10,   0,\n",
       "         1,  -9, -11,  -2, -12,  22,  -6,   6,  -2,  -3,  -4,  -3,   8,\n",
       "        -9,   0,   1,   7,   6,  -2,   0,   0,  -2, -10,  -7,   4,  -3,\n",
       "        -6,   4,   5,  17,  -5, -11,  -4,   0,  -6,  10,  -3, -11,  11,\n",
       "        -8,  -8,   5,  -4,   4,   0,   6,   2,   6,   3,   5,  -5,  -6,\n",
       "       -13,   2,  -3,   6,  -3,  -7,   5,   0,   8,   2,  -6,  -3,  -5,\n",
       "        -2,   0,  -3,  10,  -1,  -6,  -5,  -7,   2,  -7,  -2, -11, -13,\n",
       "        -4,  -5,   1, -12,  -5, -10,   7,  -6,  -3,  -3, -11,  -2,   5,\n",
       "        -2,   1,  -3,  -2,   6,   2,  -5,  -8, -22,   2,  -5, -10,  -5,\n",
       "         0,   5,  -2,   0,  -6, -13,   1,  -3,  -4,  -3,   5,  -8,  -3,\n",
       "         1,  -2,   1,  -2, -27,   0,  -2,  -1, -18,   5,  -3,   0,   0,\n",
       "         2, -13,  -5,   0,  -8,   7,  -7,   3,   7,   3,   1,  -5,  -2,\n",
       "        -2,   8,  -5,   9,   6, -12,  -3,   6,  -8,  -3,   2,  -9, -12,\n",
       "       -11,  -6,  -4,  14,   3,   5,  -7,   5,  11,  -7,   1,  -9,  -7,\n",
       "        -7,  -8,   1,  -4,   8,  -9, -12,  -4,   5,  -7,   8,  20,   4,\n",
       "        -5,  -2,  11,   0,   2, -11,  -1, -10,   5,   3,  -1,  -7,   0,\n",
       "        -1,   5,   7,   0,  -6,  -9, -12,   2,  -6,  -1,  -4,  -8, -11,\n",
       "        -1, -14,  -6,  -6,  -3,  14,   7,  -9,  -8,   2, -10,   5,   6,\n",
       "        -1,  -3,  -6,  -1,   1,   5,   4,   0,  -3,  -5,   4,  -3, -13,\n",
       "        -4,  -4,   6,  -7,   1, -11,  -3,  -3,   1, -10,  -1, -17,  -9,\n",
       "         1,  -6, -15,  -2,  -4,  -7,  -2, -14,  -3,  -1,   8, -15,   1,\n",
       "        -5,  -3,  -5, -10,  -6,  -6,  -9,  -7,   1,   7, -14,   0,   1,\n",
       "        -1,  -1,  -1,  -4,  -8, -11,  -9,  -6,  -7,  -6,  -3,  -3,  -1,\n",
       "        -7,  11,  12, -16,  -1,  -3,  -3,  -1, -12,   3,  -2,  -1, -13,\n",
       "        -2,   2,  12,  12,  -4,   2,  -5,  -7,  -3, -11, -14,  -7,  -4,\n",
       "       -10,  -7, -12, -23,  -2, -16,  -1,  -2,  10,   8,  -6,  -7, -11,\n",
       "       -13, -11, -16,  -5,  -3, -10,  -8,  -7,  -8,  -8,  -6,  -4,  -6,\n",
       "       -11,  -9,  -8, -10, -10,   1,  -2,  -3,  -9,  -5,  -9, -15,  -5,\n",
       "       -13,  -7,  -3,  -5, -13, -11,   2, -10,  12,   5,   4,   9,   7,\n",
       "        12,   9,  20,  18,   4,   4,   0,  -2,   5,  -9,  -9,  -2,   9,\n",
       "         1, -15, -15,  -7,  -9,  -9, -13,  -6,  -3,  -4,   1,  -1], dtype=int8)"
      ]
     },
     "execution_count": 9,
     "metadata": {},
     "output_type": "execute_result"
    }
   ],
   "source": [
    "resultINT"
   ]
  },
  {
   "cell_type": "code",
   "execution_count": 9,
   "metadata": {},
   "outputs": [],
   "source": [
    "with open(\"./words.txt\", \"r\") as f:\n",
    "    lines = f.readlines()"
   ]
  },
  {
   "cell_type": "code",
   "execution_count": 10,
   "metadata": {},
   "outputs": [
    {
     "name": "stdout",
     "output_type": "stream",
     "text": [
      "Class label: rock python, rock snake, Python sebae\n",
      "\n"
     ]
    }
   ],
   "source": [
    "print('Class label: {}'.format(lines[np.argmax(softmax)]))"
   ]
  },
  {
   "cell_type": "code",
   "execution_count": 10,
   "metadata": {},
   "outputs": [
    {
     "name": "stdout",
     "output_type": "stream",
     "text": [
      "[DPU mode]\r\n",
      "normal\r\n",
      "\r\n",
      "[DPU timeout limitation (in seconds)]\r\n",
      "10\r\n",
      "\r\n",
      "[DPU Debug Info]\r\n",
      "Core 0 schedule : 1\r\n",
      "Core 0 interrupt: 1\r\n",
      "\r\n",
      "[DPU Resource]\r\n",
      "DPU Core  \t: 0\r\n",
      "State     \t: Idle\r\n",
      "PID       \t: 4687\r\n",
      "TaskID    \t: 4687\r\n",
      "Start     \t: 1610162931856138000\r\n",
      "End       \t: 1610162931866336000\r\n",
      "\r\n",
      "[DPU Core 0 Register]\r\n",
      "CTL       : 0x00000004\r\n",
      "GIE       : 0x00000000\r\n",
      "IRQ       : 0x00000000\r\n",
      "HP        : 0x07070f0f\r\n",
      "CODE      : 0x0000000000078280\r\n",
      "BASE0     : 0x0000000078300000\r\n",
      "BASE1     : 0x0000000078700000\r\n",
      "BASE2     : 0x0000000000000000\r\n",
      "BASE3     : 0x0000000000000000\r\n",
      "BASE4     : 0x0000000000000000\r\n",
      "BASE5     : 0x0000000000000000\r\n",
      "BASE6     : 0x0000000000000000\r\n",
      "BASE7     : 0x0000000000000000\r\n",
      "CYCLE_H   : 0x00000000\r\n",
      "CYCLE_L   : 0x00000000\r\n",
      "REGVER    : 0x32016b02\r\n",
      "TIMESTAMP : 0x1431a0d2\r\n",
      "GITID     : 0x07b7683a\r\n",
      "GITTIME   : 0x77675797\r\n",
      "VERSION   : 0x00000141\r\n",
      "TIMER     : 0x00000000\r\n",
      "ARCH      : 0x31280a0a\r\n",
      "RAM       : 0x00001333\r\n",
      "LOAD      : 0x00000002\r\n",
      "CONV      : 0x00000111\r\n",
      "SAVE      : 0x00000002\r\n",
      "POOL      : 0x00000001\r\n",
      "ELEW      : 0x00000001\r\n",
      "DWCV      : 0x00000014\r\n",
      "MISC      : 0x00000001\r\n",
      "DPU STATUS: 0x00000000\r\n",
      "AXI STATUS: 0x00455454\r\n",
      "LOAD START: 12791\r\n",
      "LOAD END  : 12791\r\n",
      "SAVE START: 626\r\n",
      "SAVE END  : 626\r\n",
      "CONV START: 3488\r\n",
      "CONV END  : 3488\r\n",
      "MISC START: 840\r\n",
      "MISC END  : 840\r\n",
      "\r\n"
     ]
    }
   ],
   "source": [
    "!dexplorer -s"
   ]
  },
  {
   "cell_type": "code",
   "execution_count": null,
   "metadata": {},
   "outputs": [],
   "source": []
  }
 ],
 "metadata": {
  "kernelspec": {
   "display_name": "Python 3",
   "language": "python",
   "name": "python3"
  },
  "language_info": {
   "codemirror_mode": {
    "name": "ipython",
    "version": 3
   },
   "file_extension": ".py",
   "mimetype": "text/x-python",
   "name": "python",
   "nbconvert_exporter": "python",
   "pygments_lexer": "ipython3",
   "version": "3.6.5"
  }
 },
 "nbformat": 4,
 "nbformat_minor": 2
}
